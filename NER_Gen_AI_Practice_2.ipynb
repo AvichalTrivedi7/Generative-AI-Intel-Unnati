{
  "nbformat": 4,
  "nbformat_minor": 0,
  "metadata": {
    "colab": {
      "provenance": [],
      "authorship_tag": "ABX9TyMCdXZjXQ2ePDPrjw7pQMhH",
      "include_colab_link": true
    },
    "kernelspec": {
      "name": "python3",
      "display_name": "Python 3"
    },
    "language_info": {
      "name": "python"
    }
  },
  "cells": [
    {
      "cell_type": "markdown",
      "metadata": {
        "id": "view-in-github",
        "colab_type": "text"
      },
      "source": [
        "<a href=\"https://colab.research.google.com/github/AvichalTrivedi7/Generative-AI-Intel-Unnati/blob/main/NER_Gen_AI_Practice_2.ipynb\" target=\"_parent\"><img src=\"https://colab.research.google.com/assets/colab-badge.svg\" alt=\"Open In Colab\"/></a>"
      ]
    },
    {
      "cell_type": "markdown",
      "source": [
        "#GEN AI\n",
        "\n",
        "Name Entity Recognition (NER) is the task of identifying and classifying named entities in text into categories as:\n",
        "Person Names\n",
        "Locations\n",
        "Organizations\n",
        "Dates/Times\n",
        "Monetary Values\n",
        "Numerical/Quantities\n",
        "\n",
        "Useful for - Information extraction, Question answering, Search Engines, Chatbots & Assistants.\n",
        "\n",
        "Example:\n",
        "Barack Obama was born in honolulu and served as the 44th president of the united states.\n",
        "\n",
        "NEP Output:\n",
        "Barack Obama - PERSON\n",
        "Honolulu - LOCATION\n",
        "44th - ORDINAL\n",
        "United states - LOCATION\n",
        "\n"
      ],
      "metadata": {
        "id": "L6VaLIYvrs0O"
      }
    },
    {
      "cell_type": "code",
      "source": [
        "sentence = \"Sundar Pichai, the CEO of Google, announced a new AI initiative at the company's headquarters in Mountain View, California.\""
      ],
      "metadata": {
        "id": "KtDiQyuxrsav"
      },
      "execution_count": null,
      "outputs": []
    },
    {
      "cell_type": "code",
      "execution_count": null,
      "metadata": {
        "id": "TmXI9a5myocU",
        "colab": {
          "base_uri": "https://localhost:8080/"
        },
        "outputId": "36143760-2241-4bd3-91dd-90825e716f98"
      },
      "outputs": [
        {
          "output_type": "stream",
          "name": "stderr",
          "text": [
            "[nltk_data] Downloading package punkt_tab to /root/nltk_data...\n",
            "[nltk_data]   Unzipping tokenizers/punkt_tab.zip.\n",
            "[nltk_data] Downloading package maxent_ne_chunker_tab to\n",
            "[nltk_data]     /root/nltk_data...\n",
            "[nltk_data]   Unzipping chunkers/maxent_ne_chunker_tab.zip.\n",
            "[nltk_data] Downloading package averaged_perceptron_tagger_eng to\n",
            "[nltk_data]     /root/nltk_data...\n",
            "[nltk_data]   Unzipping taggers/averaged_perceptron_tagger_eng.zip.\n",
            "[nltk_data] Downloading package words to /root/nltk_data...\n",
            "[nltk_data]   Unzipping corpora/words.zip.\n"
          ]
        },
        {
          "output_type": "execute_result",
          "data": {
            "text/plain": [
              "True"
            ]
          },
          "metadata": {},
          "execution_count": 1
        }
      ],
      "source": [
        "# Download required NLTK resources\n",
        "import nltk\n",
        "nltk.download(\"punkt_tab\")\n",
        "nltk.download(\"maxent_ne_chunker_tab\")\n",
        "nltk.download(\"averaged_perceptron_tagger_eng\")\n",
        "nltk.download(\"words\")"
      ]
    },
    {
      "cell_type": "code",
      "source": [
        "words = nltk.word_tokenize(sentence)\n",
        "words"
      ],
      "metadata": {
        "colab": {
          "base_uri": "https://localhost:8080/"
        },
        "id": "w-qfUQR1sK-g",
        "outputId": "e1b0856f-6d04-444e-c4cd-9e3a0d11994b"
      },
      "execution_count": null,
      "outputs": [
        {
          "output_type": "execute_result",
          "data": {
            "text/plain": [
              "['Sundar',\n",
              " 'Pichai',\n",
              " ',',\n",
              " 'the',\n",
              " 'CEO',\n",
              " 'of',\n",
              " 'Google',\n",
              " ',',\n",
              " 'announced',\n",
              " 'a',\n",
              " 'new',\n",
              " 'AI',\n",
              " 'initiative',\n",
              " 'at',\n",
              " 'the',\n",
              " 'company',\n",
              " \"'s\",\n",
              " 'headquarters',\n",
              " 'in',\n",
              " 'Mountain',\n",
              " 'View',\n",
              " ',',\n",
              " 'California',\n",
              " '.']"
            ]
          },
          "metadata": {},
          "execution_count": 3
        }
      ]
    },
    {
      "cell_type": "code",
      "source": [
        "tag_elements = nltk.pos_tag(words)\n",
        "tag_elements"
      ],
      "metadata": {
        "colab": {
          "base_uri": "https://localhost:8080/"
        },
        "id": "PuRD5qMdsUT-",
        "outputId": "89e87323-885c-45fa-8528-d76b47646fbd"
      },
      "execution_count": null,
      "outputs": [
        {
          "output_type": "execute_result",
          "data": {
            "text/plain": [
              "[('Sundar', 'NNP'),\n",
              " ('Pichai', 'NNP'),\n",
              " (',', ','),\n",
              " ('the', 'DT'),\n",
              " ('CEO', 'NNP'),\n",
              " ('of', 'IN'),\n",
              " ('Google', 'NNP'),\n",
              " (',', ','),\n",
              " ('announced', 'VBD'),\n",
              " ('a', 'DT'),\n",
              " ('new', 'JJ'),\n",
              " ('AI', 'NNP'),\n",
              " ('initiative', 'NN'),\n",
              " ('at', 'IN'),\n",
              " ('the', 'DT'),\n",
              " ('company', 'NN'),\n",
              " (\"'s\", 'POS'),\n",
              " ('headquarters', 'NN'),\n",
              " ('in', 'IN'),\n",
              " ('Mountain', 'NNP'),\n",
              " ('View', 'NNP'),\n",
              " (',', ','),\n",
              " ('California', 'NNP'),\n",
              " ('.', '.')]"
            ]
          },
          "metadata": {},
          "execution_count": 4
        }
      ]
    },
    {
      "cell_type": "code",
      "source": [
        "named_entities = []\n",
        "named_entity_tree = nltk.ne_chunk(tag_elements)\n",
        "for chunk in named_entity_tree:\n",
        "  print(\"CHUNK:\", chunk)\n",
        "  if hasattr(chunk, 'label'):\n",
        "    entity = '-'.join(c[0] for c in chunk)\n",
        "    label = chunk.label()\n",
        "    print(\"Chunk label :\", label)\n",
        "    named_entities.append((entity, label))\n",
        "\n",
        "print(\"\")\n",
        "print(\"Named Entities :\", named_entities)"
      ],
      "metadata": {
        "colab": {
          "base_uri": "https://localhost:8080/"
        },
        "id": "oMVII8KFtI1u",
        "outputId": "eb997b3a-417d-464a-b6ea-47218d189b47"
      },
      "execution_count": null,
      "outputs": [
        {
          "output_type": "stream",
          "name": "stdout",
          "text": [
            "CHUNK: (PERSON Sundar/NNP)\n",
            "Chunk label : PERSON\n",
            "CHUNK: (ORGANIZATION Pichai/NNP)\n",
            "Chunk label : ORGANIZATION\n",
            "CHUNK: (',', ',')\n",
            "CHUNK: ('the', 'DT')\n",
            "CHUNK: (ORGANIZATION CEO/NNP)\n",
            "Chunk label : ORGANIZATION\n",
            "CHUNK: ('of', 'IN')\n",
            "CHUNK: (GPE Google/NNP)\n",
            "Chunk label : GPE\n",
            "CHUNK: (',', ',')\n",
            "CHUNK: ('announced', 'VBD')\n",
            "CHUNK: ('a', 'DT')\n",
            "CHUNK: ('new', 'JJ')\n",
            "CHUNK: ('AI', 'NNP')\n",
            "CHUNK: ('initiative', 'NN')\n",
            "CHUNK: ('at', 'IN')\n",
            "CHUNK: ('the', 'DT')\n",
            "CHUNK: ('company', 'NN')\n",
            "CHUNK: (\"'s\", 'POS')\n",
            "CHUNK: ('headquarters', 'NN')\n",
            "CHUNK: ('in', 'IN')\n",
            "CHUNK: (GPE Mountain/NNP View/NNP)\n",
            "Chunk label : GPE\n",
            "CHUNK: (',', ',')\n",
            "CHUNK: (GPE California/NNP)\n",
            "Chunk label : GPE\n",
            "CHUNK: ('.', '.')\n",
            "\n",
            "Named Entities : [('Sundar', 'PERSON'), ('Pichai', 'ORGANIZATION'), ('CEO', 'ORGANIZATION'), ('Google', 'GPE'), ('Mountain-View', 'GPE'), ('California', 'GPE')]\n"
          ]
        }
      ]
    },
    {
      "cell_type": "markdown",
      "source": [
        "# NLP Vectorization Techniques for Restaurant Reviews\n",
        "\n",
        "##Scenario\n",
        "\n",
        "You are analyzing restaurant feedback.\n",
        "The goal is to convert text reviews in to numerical representations so that a computer can process them.\n",
        "\n",
        "Different techniques capture different aspects of the text, from simple word presence to semantic similarity.\n",
        "\n",
        "##One-Hot Encoding (Binary Word Presence)\n",
        "Goal: Identify whether a word appears in a review, ignoring frequency.\n",
        "0-> word is absent\n",
        "1-> word is present\n",
        "\n",
        "We use it when presence matters more than how often it occurs.\n"
      ],
      "metadata": {
        "id": "5MEq5dXQ01Bc"
      }
    },
    {
      "cell_type": "markdown",
      "source": [
        "THE REST IS SHARED IN GOOGLE CLASSROOM (IN DRIVE)\n",
        "\n",
        "Also in the next practice (3rd one, i have the entire program for it)"
      ],
      "metadata": {
        "id": "Wh9hYYqF9bxm"
      }
    }
  ]
}